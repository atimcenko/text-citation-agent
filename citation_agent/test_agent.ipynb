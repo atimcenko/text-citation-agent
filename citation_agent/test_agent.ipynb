{
 "cells": [
  {
   "cell_type": "code",
   "execution_count": null,
   "id": "ec89057c",
   "metadata": {},
   "outputs": [],
   "source": [
    "from agent import process_paragraph\n",
    "\n",
    "# 2) Define a sample paragraph\n",
    "paragraph = \"\"\"\n",
    "Neurons in the hippocampus encode spatial location via place fields.\n",
    "Hippocampus is a region of the brain. I think it's beatiful!\n",
    "In the AI domain, deep convolutional networks achieve state-of-the-art performance on ImageNet.\n",
    "The brain’s resting-state activity exhibits small-world network properties. Our groundbreaking results will definitely seek \n",
    "\"\"\"\n",
    "\n",
    "# 3) Run the agent\n",
    "mapping = process_paragraph(paragraph)\n",
    "\n",
    "# 4) Inspect the results\n",
    "for item in mapping:\n",
    "    print(\"Sentence:\", item[\"sentence\"])\n",
    "    if not item[\"citations\"]:\n",
    "        print(\"  → No citation needed\\n\")\n",
    "        continue\n",
    "    for cit in item[\"citations\"]:\n",
    "        print(f\"  → {cit['authors'][0]} et al. ({cit['year']}): {cit['title']}\")\n",
    "        print(\"     DOI:\", cit[\"doi\"])\n",
    "    print()\n"
   ]
  }
 ],
 "metadata": {
  "language_info": {
   "name": "python"
  }
 },
 "nbformat": 4,
 "nbformat_minor": 5
}
