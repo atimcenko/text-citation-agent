{
 "cells": [
  {
   "cell_type": "code",
   "execution_count": null,
   "id": "e135b6cb",
   "metadata": {},
   "outputs": [
    {
     "name": "stdout",
     "output_type": "stream",
     "text": [
      "LLM replied: 4\n"
     ]
    }
   ],
   "source": [
    "from models.llm import llm_call\n",
    "\n",
    "# A trivial test to check connectivity and credentials:\n",
    "response = llm_call(\"What is 2 + 2? Reply with just the number.\", max_tokens=5)\n",
    "print(\"LLM replied:\", response)"
   ]
  },
  {
   "cell_type": "code",
   "execution_count": 2,
   "id": "7824c517",
   "metadata": {},
   "outputs": [
    {
     "name": "stdout",
     "output_type": "stream",
     "text": [
      "\n",
      "You are a scientific writing assistant.\n",
      "Input: a single sentence.\n",
      "Task:\n",
      "1. Decide if the sentence contains a factual claim that should be supported by a scholarly citation.\n",
      "2. If yes, extract the minimal text span(s) of the claim.\n",
      "\n",
      "Return a JSON object exactly in this format (no extra keys):\n",
      "{\n",
      "  \"needs_cite\": true|false,\n",
      "  \"claim_spans\": [ ... list of strings ... ]\n",
      "}\n",
      "\n",
      "Sentence:\n",
      "\"\"\"Deep convolutional networks achieve state-of-the-art performance on ImageNet and transfomers do better.\"\"\"\n",
      "\n",
      "{\n",
      "  \"needs_cite\": true,\n",
      "  \"claim_spans\": [\n",
      "    \"Deep convolutional networks achieve state-of-the-art performance on ImageNet\",\n",
      "    \"transfomers do better\"\n",
      "  ]\n",
      "}\n",
      "detect_claims output: {'needs_cite': True, 'claim_spans': ['Deep convolutional networks achieve state-of-the-art performance on ImageNet', 'transfomers do better']}\n"
     ]
    }
   ],
   "source": [
    "from models.llm import detect_claims\n",
    "\n",
    "sentence = \"Deep convolutional networks achieve state-of-the-art performance on ImageNet and transfomers do better.\"\n",
    "result = detect_claims(sentence)\n",
    "print(\"detect_claims output:\", result)\n",
    "# Expected: {'needs_cite': True, 'claim_spans': […]}\n"
   ]
  },
  {
   "cell_type": "code",
   "execution_count": 3,
   "id": "7b41504c",
   "metadata": {},
   "outputs": [
    {
     "name": "stdout",
     "output_type": "stream",
     "text": [
      "gen_queries output: ['Deep convolutional networks ImageNet performance', 'state-of-the-art results ImageNet deep learning', 'ImageNet benchmarks deep convolutional networks']\n"
     ]
    }
   ],
   "source": [
    "from models.llm import gen_queries\n",
    "\n",
    "claim = \"Deep convolutional networks achieve state-of-the-art performance on ImageNet\"\n",
    "sentence = \"Deep convolutional networks achieve state-of-the-art performance on ImageNet.\"\n",
    "queries = gen_queries(claim, sentence)\n",
    "print(\"gen_queries output:\", queries)\n",
    "# Expected: a list of ~3 search strings, e.g. [\"deep convolutional network ImageNet performance\", …]\n"
   ]
  },
  {
   "cell_type": "code",
   "execution_count": null,
   "id": "cebbdb89",
   "metadata": {},
   "outputs": [
    {
     "name": "stdout",
     "output_type": "stream",
     "text": [
      "rerank output:\n",
      "  10.1038/nature14539 — score 5\n",
      "  10.1109/CVPR.2015.7298594 — score 3\n"
     ]
    }
   ],
   "source": [
    "from models.llm import rerank\n",
    "\n",
    "claim = \"Deep convolutional networks achieve state-of-the-art performance on ImageNet\"\n",
    "sentence = \"Deep convolutional networks achieve state-of-the-art performance on ImageNet.\"\n",
    "\n",
    "# Dummy candidate papers; in practice you'd fetch via OpenAlex\n",
    "candidates = [\n",
    "    {\n",
    "        \"doi\": \"10.1038/nature14539\",\n",
    "        \"title\": \"ImageNet Classification with Deep Convolutional Neural Networks\",\n",
    "        \"abstract\": \"We trained a large, deep convolutional neural network to classify the 1.2 million high-resolution images in the ImageNet LSVRC-2010 contest…\"\n",
    "    },\n",
    "    {\n",
    "        \"doi\": \"10.1109/CVPR.2015.7298594\",\n",
    "        \"title\": \"Deep Residual Learning for Image Recognition\",\n",
    "        \"abstract\": \"Deeper neural networks are more difficult to train. We present a residual learning framework to ease the training of networks that are substantially deeper than those used previously…\"\n",
    "    },\n",
    "    {\n",
    "        \"doi\": \"10.1007/s11263-015-0816-y\",\n",
    "        \"title\": \"A survey on deep learning in medical image analysis\",\n",
    "        \"abstract\": \"In the last few years, deep learning has emerged as a powerful tool for medical image analysis…\"\n",
    "    },\n",
    "]\n",
    "\n",
    "ranked = rerank(claim, sentence, candidates, top_k=2)\n",
    "print(\"rerank output:\")\n",
    "for paper in ranked:\n",
    "    print(f\"  {paper['doi']} — score {paper['score']}\")\n",
    "# Expected: the first two papers scored highest for this claim.\n"
   ]
  },
  {
   "cell_type": "code",
   "execution_count": null,
   "id": "c7b4ee4e",
   "metadata": {},
   "outputs": [],
   "source": []
  }
 ],
 "metadata": {
  "kernelspec": {
   "display_name": "tu-llm-agent (3.11.11)",
   "language": "python",
   "name": "python3"
  },
  "language_info": {
   "codemirror_mode": {
    "name": "ipython",
    "version": 3
   },
   "file_extension": ".py",
   "mimetype": "text/x-python",
   "name": "python",
   "nbconvert_exporter": "python",
   "pygments_lexer": "ipython3",
   "version": "3.11.11"
  }
 },
 "nbformat": 4,
 "nbformat_minor": 5
}
